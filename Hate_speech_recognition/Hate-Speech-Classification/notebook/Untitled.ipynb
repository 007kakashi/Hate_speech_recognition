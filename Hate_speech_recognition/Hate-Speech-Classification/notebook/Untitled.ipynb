{
 "cells": [
  {
   "cell_type": "code",
   "execution_count": 217,
   "id": "39160a2e",
   "metadata": {},
   "outputs": [],
   "source": [
    "from statistics import mode\n",
    "from collections import Counter as ctr"
   ]
  },
  {
   "cell_type": "code",
   "execution_count": 145,
   "id": "9c16ec56",
   "metadata": {},
   "outputs": [],
   "source": [
    "arr=[5,4,2,5,1,1]"
   ]
  },
  {
   "cell_type": "code",
   "execution_count": 146,
   "id": "07620af9",
   "metadata": {},
   "outputs": [
    {
     "data": {
      "text/plain": [
       "5"
      ]
     },
     "execution_count": 146,
     "metadata": {},
     "output_type": "execute_result"
    }
   ],
   "source": [
    "arr[0]"
   ]
  },
  {
   "cell_type": "code",
   "execution_count": 147,
   "id": "85312b62",
   "metadata": {},
   "outputs": [
    {
     "data": {
      "text/plain": [
       "5"
      ]
     },
     "execution_count": 147,
     "metadata": {},
     "output_type": "execute_result"
    }
   ],
   "source": [
    "mode(arr)"
   ]
  },
  {
   "cell_type": "code",
   "execution_count": 148,
   "id": "d394a1d1",
   "metadata": {},
   "outputs": [],
   "source": [
    "def moder(arr):\n",
    "    q = []\n",
    "    for i in arr:\n",
    "        a = arr.count(i)\n",
    "        if a > 2:\n",
    "            q.append(i)\n",
    "    if q:\n",
    "        return q[0]\n",
    "    else :\n",
    "        return None"
   ]
  },
  {
   "cell_type": "code",
   "execution_count": 294,
   "id": "d28e3175",
   "metadata": {},
   "outputs": [],
   "source": [
    "p=[2,3,4,5,5,2,2]"
   ]
  },
  {
   "cell_type": "code",
   "execution_count": 295,
   "id": "c41b855c",
   "metadata": {},
   "outputs": [],
   "source": [
    "b=Counter(p)"
   ]
  },
  {
   "cell_type": "code",
   "execution_count": 296,
   "id": "4d78ccbe",
   "metadata": {},
   "outputs": [
    {
     "data": {
      "text/plain": [
       "[3, 1, 1, 2]"
      ]
     },
     "execution_count": 296,
     "metadata": {},
     "output_type": "execute_result"
    }
   ],
   "source": [
    "list(b.values())"
   ]
  },
  {
   "cell_type": "code",
   "execution_count": 297,
   "id": "282b3abb",
   "metadata": {},
   "outputs": [],
   "source": [
    "max_value=max(b.values())\n",
    "max_key=max(b.keys())"
   ]
  },
  {
   "cell_type": "code",
   "execution_count": 298,
   "id": "0c165581",
   "metadata": {},
   "outputs": [
    {
     "data": {
      "text/plain": [
       "5"
      ]
     },
     "execution_count": 298,
     "metadata": {},
     "output_type": "execute_result"
    }
   ],
   "source": [
    "max_key"
   ]
  },
  {
   "cell_type": "code",
   "execution_count": 299,
   "id": "27f52223",
   "metadata": {},
   "outputs": [
    {
     "data": {
      "text/plain": [
       "dict_items([(2, 3), (3, 1), (4, 1), (5, 2)])"
      ]
     },
     "execution_count": 299,
     "metadata": {},
     "output_type": "execute_result"
    }
   ],
   "source": [
    "b.items()"
   ]
  },
  {
   "cell_type": "code",
   "execution_count": 300,
   "id": "af4f57cf",
   "metadata": {},
   "outputs": [],
   "source": [
    "def moder(arr):\n",
    "    \n",
    "    a=Counter(arr)\n",
    "    b=max(a.values())\n",
    "    \n",
    "    for i,j in a.items():\n",
    "        if a.keys() ma \n",
    "        if j== max_value:\n",
    "            if i<=\n",
    "            \n",
    "            return print(i)\n",
    "        "
   ]
  },
  {
   "cell_type": "code",
   "execution_count": 301,
   "id": "d430dc1c",
   "metadata": {},
   "outputs": [],
   "source": [
    "result=moder(p)"
   ]
  },
  {
   "cell_type": "code",
   "execution_count": 287,
   "id": "4816418c",
   "metadata": {},
   "outputs": [
    {
     "name": "stdout",
     "output_type": "stream",
     "text": [
      "None\n"
     ]
    }
   ],
   "source": [
    "print(result)"
   ]
  },
  {
   "cell_type": "code",
   "execution_count": 208,
   "id": "d05b0172",
   "metadata": {},
   "outputs": [],
   "source": [
    "a=[5,2,1,2,5,2,5,2]"
   ]
  },
  {
   "cell_type": "code",
   "execution_count": 292,
   "id": "90f4d430",
   "metadata": {},
   "outputs": [
    {
     "name": "stdout",
     "output_type": "stream",
     "text": [
      "None\n"
     ]
    }
   ],
   "source": [
    "result=moder(a)\n",
    "print(result)"
   ]
  },
  {
   "cell_type": "code",
   "execution_count": null,
   "id": "ccff1904",
   "metadata": {},
   "outputs": [],
   "source": []
  }
 ],
 "metadata": {
  "kernelspec": {
   "display_name": "Python 3 (ipykernel)",
   "language": "python",
   "name": "python3"
  },
  "language_info": {
   "codemirror_mode": {
    "name": "ipython",
    "version": 3
   },
   "file_extension": ".py",
   "mimetype": "text/x-python",
   "name": "python",
   "nbconvert_exporter": "python",
   "pygments_lexer": "ipython3",
   "version": "3.10.9"
  }
 },
 "nbformat": 4,
 "nbformat_minor": 5
}
